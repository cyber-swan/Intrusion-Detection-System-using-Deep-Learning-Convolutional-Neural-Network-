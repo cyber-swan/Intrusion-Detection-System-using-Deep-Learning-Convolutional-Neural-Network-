{
 "cells": [
  {
   "cell_type": "code",
   "execution_count": 1,
   "id": "1c9561a9",
   "metadata": {},
   "outputs": [],
   "source": [
    "import os\n",
    "import logging \n",
    "import pandas as pd\n",
    "import numpy as np\n",
    "from sklearn.preprocessing import LabelEncoder\n",
    "from sklearn.model_selection import train_test_split\n",
    "import tensorflow as tf\n",
    "tf.config.list_physical_devices('GPU')\n",
    "import tensorflow.keras as keras\n",
    "# Log setting\n",
    "logging.basicConfig(format=\"%(asctime)s %(levelname)s %(message)s\", datefmt=\"%H:%M:%S\", level=logging.INFO)"
   ]
  },
  {
   "cell_type": "code",
   "execution_count": 2,
   "id": "a4f8f80d",
   "metadata": {},
   "outputs": [],
   "source": [
    "df = pd.read_csv(\"MachineLearningCVE.csv\")"
   ]
  },
  {
   "cell_type": "code",
   "execution_count": 3,
   "id": "d80ff5ea",
   "metadata": {},
   "outputs": [
    {
     "data": {
      "text/html": [
       "<div>\n",
       "<style scoped>\n",
       "    .dataframe tbody tr th:only-of-type {\n",
       "        vertical-align: middle;\n",
       "    }\n",
       "\n",
       "    .dataframe tbody tr th {\n",
       "        vertical-align: top;\n",
       "    }\n",
       "\n",
       "    .dataframe thead th {\n",
       "        text-align: right;\n",
       "    }\n",
       "</style>\n",
       "<table border=\"1\" class=\"dataframe\">\n",
       "  <thead>\n",
       "    <tr style=\"text-align: right;\">\n",
       "      <th></th>\n",
       "      <th>Destination Port</th>\n",
       "      <th>Flow Duration</th>\n",
       "      <th>Total Fwd Packets</th>\n",
       "      <th>Total Backward Packets</th>\n",
       "      <th>Total Length of Fwd Packets</th>\n",
       "      <th>Total Length of Bwd Packets</th>\n",
       "      <th>Fwd Packet Length Max</th>\n",
       "      <th>Fwd Packet Length Min</th>\n",
       "      <th>Fwd Packet Length Mean</th>\n",
       "      <th>Fwd Packet Length Std</th>\n",
       "      <th>...</th>\n",
       "      <th>min_seg_size_forward</th>\n",
       "      <th>Active Mean</th>\n",
       "      <th>Active Std</th>\n",
       "      <th>Active Max</th>\n",
       "      <th>Active Min</th>\n",
       "      <th>Idle Mean</th>\n",
       "      <th>Idle Std</th>\n",
       "      <th>Idle Max</th>\n",
       "      <th>Idle Min</th>\n",
       "      <th>Label</th>\n",
       "    </tr>\n",
       "  </thead>\n",
       "  <tbody>\n",
       "    <tr>\n",
       "      <th>0</th>\n",
       "      <td>49188</td>\n",
       "      <td>4</td>\n",
       "      <td>2</td>\n",
       "      <td>0</td>\n",
       "      <td>12</td>\n",
       "      <td>0</td>\n",
       "      <td>6</td>\n",
       "      <td>6</td>\n",
       "      <td>6.0</td>\n",
       "      <td>0.0</td>\n",
       "      <td>...</td>\n",
       "      <td>20</td>\n",
       "      <td>0.0</td>\n",
       "      <td>0.0</td>\n",
       "      <td>0</td>\n",
       "      <td>0</td>\n",
       "      <td>0.0</td>\n",
       "      <td>0.0</td>\n",
       "      <td>0</td>\n",
       "      <td>0</td>\n",
       "      <td>BENIGN</td>\n",
       "    </tr>\n",
       "    <tr>\n",
       "      <th>1</th>\n",
       "      <td>49188</td>\n",
       "      <td>1</td>\n",
       "      <td>2</td>\n",
       "      <td>0</td>\n",
       "      <td>12</td>\n",
       "      <td>0</td>\n",
       "      <td>6</td>\n",
       "      <td>6</td>\n",
       "      <td>6.0</td>\n",
       "      <td>0.0</td>\n",
       "      <td>...</td>\n",
       "      <td>20</td>\n",
       "      <td>0.0</td>\n",
       "      <td>0.0</td>\n",
       "      <td>0</td>\n",
       "      <td>0</td>\n",
       "      <td>0.0</td>\n",
       "      <td>0.0</td>\n",
       "      <td>0</td>\n",
       "      <td>0</td>\n",
       "      <td>BENIGN</td>\n",
       "    </tr>\n",
       "    <tr>\n",
       "      <th>2</th>\n",
       "      <td>49188</td>\n",
       "      <td>1</td>\n",
       "      <td>2</td>\n",
       "      <td>0</td>\n",
       "      <td>12</td>\n",
       "      <td>0</td>\n",
       "      <td>6</td>\n",
       "      <td>6</td>\n",
       "      <td>6.0</td>\n",
       "      <td>0.0</td>\n",
       "      <td>...</td>\n",
       "      <td>20</td>\n",
       "      <td>0.0</td>\n",
       "      <td>0.0</td>\n",
       "      <td>0</td>\n",
       "      <td>0</td>\n",
       "      <td>0.0</td>\n",
       "      <td>0.0</td>\n",
       "      <td>0</td>\n",
       "      <td>0</td>\n",
       "      <td>BENIGN</td>\n",
       "    </tr>\n",
       "    <tr>\n",
       "      <th>3</th>\n",
       "      <td>49188</td>\n",
       "      <td>1</td>\n",
       "      <td>2</td>\n",
       "      <td>0</td>\n",
       "      <td>12</td>\n",
       "      <td>0</td>\n",
       "      <td>6</td>\n",
       "      <td>6</td>\n",
       "      <td>6.0</td>\n",
       "      <td>0.0</td>\n",
       "      <td>...</td>\n",
       "      <td>20</td>\n",
       "      <td>0.0</td>\n",
       "      <td>0.0</td>\n",
       "      <td>0</td>\n",
       "      <td>0</td>\n",
       "      <td>0.0</td>\n",
       "      <td>0.0</td>\n",
       "      <td>0</td>\n",
       "      <td>0</td>\n",
       "      <td>BENIGN</td>\n",
       "    </tr>\n",
       "    <tr>\n",
       "      <th>4</th>\n",
       "      <td>49486</td>\n",
       "      <td>3</td>\n",
       "      <td>2</td>\n",
       "      <td>0</td>\n",
       "      <td>12</td>\n",
       "      <td>0</td>\n",
       "      <td>6</td>\n",
       "      <td>6</td>\n",
       "      <td>6.0</td>\n",
       "      <td>0.0</td>\n",
       "      <td>...</td>\n",
       "      <td>20</td>\n",
       "      <td>0.0</td>\n",
       "      <td>0.0</td>\n",
       "      <td>0</td>\n",
       "      <td>0</td>\n",
       "      <td>0.0</td>\n",
       "      <td>0.0</td>\n",
       "      <td>0</td>\n",
       "      <td>0</td>\n",
       "      <td>BENIGN</td>\n",
       "    </tr>\n",
       "  </tbody>\n",
       "</table>\n",
       "<p>5 rows × 79 columns</p>\n",
       "</div>"
      ],
      "text/plain": [
       "   Destination Port  Flow Duration  Total Fwd Packets  Total Backward Packets  \\\n",
       "0             49188              4                  2                       0   \n",
       "1             49188              1                  2                       0   \n",
       "2             49188              1                  2                       0   \n",
       "3             49188              1                  2                       0   \n",
       "4             49486              3                  2                       0   \n",
       "\n",
       "   Total Length of Fwd Packets  Total Length of Bwd Packets  \\\n",
       "0                           12                            0   \n",
       "1                           12                            0   \n",
       "2                           12                            0   \n",
       "3                           12                            0   \n",
       "4                           12                            0   \n",
       "\n",
       "   Fwd Packet Length Max  Fwd Packet Length Min  Fwd Packet Length Mean  \\\n",
       "0                      6                      6                     6.0   \n",
       "1                      6                      6                     6.0   \n",
       "2                      6                      6                     6.0   \n",
       "3                      6                      6                     6.0   \n",
       "4                      6                      6                     6.0   \n",
       "\n",
       "   Fwd Packet Length Std  ...  min_seg_size_forward  Active Mean  Active Std  \\\n",
       "0                    0.0  ...                    20          0.0         0.0   \n",
       "1                    0.0  ...                    20          0.0         0.0   \n",
       "2                    0.0  ...                    20          0.0         0.0   \n",
       "3                    0.0  ...                    20          0.0         0.0   \n",
       "4                    0.0  ...                    20          0.0         0.0   \n",
       "\n",
       "   Active Max  Active Min  Idle Mean  Idle Std  Idle Max  Idle Min   Label  \n",
       "0           0           0        0.0       0.0         0         0  BENIGN  \n",
       "1           0           0        0.0       0.0         0         0  BENIGN  \n",
       "2           0           0        0.0       0.0         0         0  BENIGN  \n",
       "3           0           0        0.0       0.0         0         0  BENIGN  \n",
       "4           0           0        0.0       0.0         0         0  BENIGN  \n",
       "\n",
       "[5 rows x 79 columns]"
      ]
     },
     "execution_count": 3,
     "metadata": {},
     "output_type": "execute_result"
    }
   ],
   "source": [
    "df.head()"
   ]
  },
  {
   "cell_type": "code",
   "execution_count": 4,
   "id": "329d9f3a",
   "metadata": {},
   "outputs": [
    {
     "data": {
      "text/plain": [
       "BENIGN                      2273097\n",
       "DoS Hulk                     231073\n",
       "PortScan                     158930\n",
       "DDoS                         128027\n",
       "DoS GoldenEye                 10293\n",
       "FTP-Patator                    7938\n",
       "SSH-Patator                    5897\n",
       "DoS slowloris                  5796\n",
       "DoS Slowhttptest               5499\n",
       "Bot                            1966\n",
       "Web Attack-Brute Force         1507\n",
       "Web Attack-XSS                  652\n",
       "Infiltration                     36\n",
       "Web Attack-Sql Injection         21\n",
       "Heartbleed                       11\n",
       "Name: Label, dtype: int64"
      ]
     },
     "execution_count": 4,
     "metadata": {},
     "output_type": "execute_result"
    }
   ],
   "source": [
    "df.Label.value_counts()"
   ]
  },
  {
   "cell_type": "code",
   "execution_count": 5,
   "id": "6ddbfb9d",
   "metadata": {},
   "outputs": [
    {
     "name": "stderr",
     "output_type": "stream",
     "text": [
      "13:53:10 INFO Total rows: (2830743,)\n",
      "13:53:10 INFO Class distribution:\n",
      "0     2273097\n",
      "4      231073\n",
      "10     158930\n",
      "2      128027\n",
      "3       10293\n",
      "7        7938\n",
      "11       5897\n",
      "6        5796\n",
      "5        5499\n",
      "1        1966\n",
      "12       1507\n",
      "14        652\n",
      "9          36\n",
      "13         21\n",
      "8          11\n",
      "Name: Label, dtype: int64\n",
      "\n"
     ]
    }
   ],
   "source": [
    "le = LabelEncoder()\n",
    "# Fit the labels data to Label Encoder\n",
    "df.Label = le.fit_transform(df.Label)\n",
    "logging.info(\"Total rows: {}\".format(df.Label.shape))\n",
    "logging.info(\"Class distribution:\\n{}\\n\".format(df.Label.value_counts()))"
   ]
  },
  {
   "cell_type": "code",
   "execution_count": 6,
   "id": "dcde0560",
   "metadata": {},
   "outputs": [
    {
     "name": "stderr",
     "output_type": "stream",
     "text": [
      "13:53:10 INFO Fill NaN in 1358 rows with average value of each class.\n",
      "13:53:52 INFO Replace Inf in 2867 rows with maximum value of each class.\n",
      "13:54:28 INFO Replace negative values with minimum value of each class.\n"
     ]
    }
   ],
   "source": [
    "nan_rows = df[df.isna().any(axis=1)].shape[0]\n",
    "logging.info(\"Fill NaN in {} rows with average value of each class.\".format(nan_rows))\n",
    "df.iloc[:, df.columns != \"Label\"] = df.groupby(\"Label\").transform(lambda x: x.fillna(x.mean()))\n",
    "# Change inf value with maximum value of each class\n",
    "inf_rows = df[df.isin([np.inf]).any(axis=1)].shape[0]\n",
    "logging.info(\"Replace Inf in {} rows with maximum value of each class.\".format(inf_rows))\n",
    "# Temporary replace inf with NaN\n",
    "df = df.replace([np.inf], np.nan)\n",
    "# Replace inf with maximum value of each class in this dataset\n",
    "df.iloc[:, df.columns != \"Label\"] = df.groupby(\"Label\").transform(lambda x: x.fillna(x.max()))\n",
    "# Change negative value with minimum positive value of each class\n",
    "logging.info(\"Replace negative values with minimum value of each class.\")\n",
    "# Temporary replace negative value with NaN\n",
    "df[df < 0] = np.nan\n",
    "# Replace negative value with minimum value of each class in this dataset\n",
    "df.iloc[:, df.columns != \"Label\"] = df.groupby(\"Label\").transform(lambda x: x.fillna(x.min()))"
   ]
  },
  {
   "cell_type": "code",
   "execution_count": 7,
   "id": "d929345e",
   "metadata": {},
   "outputs": [],
   "source": [
    "import tensorflow as tf\n",
    "import matplotlib.pyplot as plt\n",
    "\n",
    "from sklearn.metrics import classification_report\n",
    "from sklearn.preprocessing import MinMaxScaler\n",
    "\n",
    "df = df.sample(frac=1)"
   ]
  },
  {
   "cell_type": "code",
   "execution_count": 8,
   "id": "73462ace",
   "metadata": {},
   "outputs": [
    {
     "data": {
      "text/plain": [
       "[name: \"/device:CPU:0\"\n",
       " device_type: \"CPU\"\n",
       " memory_limit: 268435456\n",
       " locality {\n",
       " }\n",
       " incarnation: 16652815633903925136\n",
       " xla_global_id: -1,\n",
       " name: \"/device:GPU:0\"\n",
       " device_type: \"GPU\"\n",
       " memory_limit: 2932309812\n",
       " locality {\n",
       "   bus_id: 1\n",
       "   links {\n",
       "   }\n",
       " }\n",
       " incarnation: 7868255261915492869\n",
       " physical_device_desc: \"device: 0, name: NVIDIA GeForce MX250, pci bus id: 0000:01:00.0, compute capability: 6.1\"\n",
       " xla_global_id: 416903419]"
      ]
     },
     "execution_count": 8,
     "metadata": {},
     "output_type": "execute_result"
    }
   ],
   "source": [
    "from tensorflow.python.client import device_lib\n",
    "device_lib.list_local_devices()"
   ]
  },
  {
   "cell_type": "code",
   "execution_count": 9,
   "id": "a390b200",
   "metadata": {},
   "outputs": [
    {
     "data": {
      "text/plain": [
       "True"
      ]
     },
     "execution_count": 9,
     "metadata": {},
     "output_type": "execute_result"
    }
   ],
   "source": [
    "tf.test.is_built_with_cuda()"
   ]
  },
  {
   "cell_type": "code",
   "execution_count": 10,
   "id": "de561ba1",
   "metadata": {},
   "outputs": [],
   "source": [
    "X = df.iloc[:, df.columns != 'Label']\n",
    "y = df['Label']\n",
    "X = np.array(X)\n",
    "y = np.array(y)\n",
    "X_train, X_test, y_train, y_test = train_test_split(X, y, stratify=y, test_size=0.3,random_state= 42)"
   ]
  },
  {
   "cell_type": "code",
   "execution_count": 11,
   "id": "a556f03d",
   "metadata": {},
   "outputs": [
    {
     "name": "stdout",
     "output_type": "stream",
     "text": [
      "[[8.00000e+01 4.00000e+00 2.00000e+00 ... 0.00000e+00 0.00000e+00\n",
      "  0.00000e+00]\n",
      " [5.30000e+01 6.19530e+04 2.00000e+00 ... 0.00000e+00 0.00000e+00\n",
      "  0.00000e+00]\n",
      " [3.21100e+03 4.90000e+01 2.00000e+00 ... 0.00000e+00 0.00000e+00\n",
      "  0.00000e+00]\n",
      " ...\n",
      " [4.43000e+02 1.50341e+05 1.00000e+00 ... 0.00000e+00 0.00000e+00\n",
      "  0.00000e+00]\n",
      " [5.28000e+03 5.40000e+01 1.00000e+00 ... 0.00000e+00 0.00000e+00\n",
      "  0.00000e+00]\n",
      " [5.24610e+04 5.00000e+00 3.00000e+00 ... 0.00000e+00 0.00000e+00\n",
      "  0.00000e+00]]\n",
      "[[8.0000000e+01 8.1376030e+06 4.0000000e+00 ... 0.0000000e+00\n",
      "  8.1367890e+06 8.1367890e+06]\n",
      " [4.4300000e+02 1.6979900e+05 1.3000000e+01 ... 0.0000000e+00\n",
      "  0.0000000e+00 0.0000000e+00]\n",
      " [8.0000000e+01 3.7963000e+04 1.0000000e+00 ... 0.0000000e+00\n",
      "  0.0000000e+00 0.0000000e+00]\n",
      " ...\n",
      " [8.0000000e+01 9.8601863e+07 8.0000000e+00 ... 0.0000000e+00\n",
      "  9.8500000e+07 9.8500000e+07]\n",
      " [6.0090000e+03 8.3000000e+01 1.0000000e+00 ... 0.0000000e+00\n",
      "  0.0000000e+00 0.0000000e+00]\n",
      " [8.0000000e+01 2.7123317e+07 2.0000000e+00 ... 0.0000000e+00\n",
      "  2.7100000e+07 2.7100000e+07]]\n",
      "[ 4  0  0 ...  0 10  0]\n",
      "[ 2  0  0 ...  4 10  3]\n"
     ]
    }
   ],
   "source": [
    "print(X_train)\n",
    "print(X_test)\n",
    "print(y_train)\n",
    "print(y_test)"
   ]
  },
  {
   "cell_type": "code",
   "execution_count": 12,
   "id": "be7dbb39",
   "metadata": {},
   "outputs": [],
   "source": [
    "scaler = MinMaxScaler()\n",
    "X_train = scaler.fit_transform(X_train)\n",
    "X_test = scaler.fit_transform(X_test)"
   ]
  },
  {
   "cell_type": "code",
   "execution_count": 13,
   "id": "6b1e347c",
   "metadata": {},
   "outputs": [
    {
     "name": "stdout",
     "output_type": "stream",
     "text": [
      "[[1.22072175e-03 3.33333339e-08 4.55046005e-06 ... 0.00000000e+00\n",
      "  0.00000000e+00 0.00000000e+00]\n",
      " [8.08728161e-04 5.16275009e-04 4.55046005e-06 ... 0.00000000e+00\n",
      "  0.00000000e+00 0.00000000e+00]\n",
      " [4.89967193e-02 4.08333340e-07 4.55046005e-06 ... 0.00000000e+00\n",
      "  0.00000000e+00 0.00000000e+00]\n",
      " ...\n",
      " [6.75974670e-03 1.25284169e-03 0.00000000e+00 ... 0.00000000e+00\n",
      "  0.00000000e+00 0.00000000e+00]\n",
      " [8.05676356e-02 4.50000008e-07 0.00000000e+00 ... 0.00000000e+00\n",
      "  0.00000000e+00 0.00000000e+00]\n",
      " [8.00503548e-01 4.16666674e-08 9.10092010e-06 ... 0.00000000e+00\n",
      "  0.00000000e+00 0.00000000e+00]]\n",
      "[[1.22074038e-03 6.78133600e-02 1.37743577e-05 ... 0.00000000e+00\n",
      "  6.78065750e-02 6.78065750e-02]\n",
      " [6.75984985e-03 1.41499170e-03 5.50974306e-05 ... 0.00000000e+00\n",
      "  0.00000000e+00 0.00000000e+00]\n",
      " [1.22074038e-03 3.16358341e-04 0.00000000e+00 ... 0.00000000e+00\n",
      "  0.00000000e+00 0.00000000e+00]\n",
      " ...\n",
      " [1.22074038e-03 8.21682212e-01 3.21401679e-05 ... 0.00000000e+00\n",
      "  8.20833333e-01 8.20833333e-01]\n",
      " [9.16928617e-02 6.91666684e-07 0.00000000e+00 ... 0.00000000e+00\n",
      "  0.00000000e+00 0.00000000e+00]\n",
      " [1.22074038e-03 2.26027647e-01 4.59145255e-06 ... 0.00000000e+00\n",
      "  2.25833333e-01 2.25833333e-01]]\n"
     ]
    }
   ],
   "source": [
    "print(X_train)\n",
    "print(X_test)"
   ]
  },
  {
   "cell_type": "code",
   "execution_count": 15,
   "id": "61ae3bfa",
   "metadata": {},
   "outputs": [],
   "source": [
    "def shaping(result: np.ndarray) -> np.ndarray:\n",
    "    value = np.zeros((result.shape[0], 81))\n",
    "    value[:, : -3] = result\n",
    "    \n",
    "    value = np.reshape(value, (value.shape[0], 9, 9))\n",
    "    result = value[..., tf.newaxis]\n",
    "    \n",
    "    return result"
   ]
  },
  {
   "cell_type": "code",
   "execution_count": 16,
   "id": "1b70eb1a",
   "metadata": {},
   "outputs": [],
   "source": [
    "X_train = shaping(X_train)\n",
    "X_test = shaping(X_test)"
   ]
  },
  {
   "cell_type": "code",
   "execution_count": 17,
   "id": "1f1af2a6",
   "metadata": {},
   "outputs": [
    {
     "data": {
      "text/plain": [
       "(1981520, 9, 9, 1)"
      ]
     },
     "execution_count": 17,
     "metadata": {},
     "output_type": "execute_result"
    }
   ],
   "source": [
    "X_train.shape"
   ]
  },
  {
   "cell_type": "code",
   "execution_count": 18,
   "id": "1a3dfa85",
   "metadata": {},
   "outputs": [
    {
     "data": {
      "text/plain": [
       "(849223, 9, 9, 1)"
      ]
     },
     "execution_count": 18,
     "metadata": {},
     "output_type": "execute_result"
    }
   ],
   "source": [
    "X_test.shape"
   ]
  },
  {
   "cell_type": "code",
   "execution_count": 19,
   "id": "29f1892b",
   "metadata": {},
   "outputs": [],
   "source": [
    "def plot_history(history: tf.keras.callbacks.History):\n",
    "    # summarize history for accuracy\n",
    "    plt.plot(history.history['sparse_categorical_accuracy'])\n",
    "    plt.plot(history.history['val_sparse_categorical_accuracy'])\n",
    "    plt.title('CNN-IDS model accuracy')\n",
    "    plt.ylabel('accuracy')\n",
    "    plt.xlabel('epoch')\n",
    "    plt.legend(['Train', 'Validation'], loc='upper left')\n",
    "    plt.show()\n",
    "\n",
    "    # summarize history for loss\n",
    "    plt.plot(history.history['loss'])\n",
    "    plt.plot(history.history['val_loss'])\n",
    "    plt.title('CNN-IDS model loss')\n",
    "    plt.ylabel('loss')\n",
    "    plt.xlabel('epoch')\n",
    "    plt.legend(['Train', 'Validation'], loc='upper left')\n",
    "    plt.show()"
   ]
  },
  {
   "cell_type": "code",
   "execution_count": 20,
   "id": "655cb83e",
   "metadata": {},
   "outputs": [],
   "source": [
    "def create_cnn_model() -> keras.Model:\n",
    "    # Creating layers\n",
    "    inputs = keras.layers.Input(shape=(9, 9, 1))\n",
    "    w = keras.layers.Conv2D(120, 2, activation='relu', padding=\"same\")(inputs)\n",
    "    w = keras.layers.Conv2D(60, 3, activation='relu', padding=\"same\")(w)\n",
    "    w = keras.layers.Conv2D(30, 4, activation='relu', padding=\"same\")(w)\n",
    "    w = keras.layers.Flatten()(w)\n",
    "    outputs = keras.layers.Dense(15, activation='softmax')(w)\n",
    "    cnn_model = keras.Model(inputs=inputs, outputs=outputs, name='cnn')\n",
    "\n",
    "    # Compile layers\n",
    "    cnn_model.compile(loss='sparse_categorical_crossentropy',\n",
    "                      metrics=['sparse_categorical_accuracy'],\n",
    "                      optimizer='adam')\n",
    "\n",
    "    return cnn_model"
   ]
  },
  {
   "cell_type": "code",
   "execution_count": 21,
   "id": "8773ebd5",
   "metadata": {},
   "outputs": [
    {
     "name": "stdout",
     "output_type": "stream",
     "text": [
      "Model: \"cnn\"\n",
      "_________________________________________________________________\n",
      " Layer (type)                Output Shape              Param #   \n",
      "=================================================================\n",
      " input_1 (InputLayer)        [(None, 9, 9, 1)]         0         \n",
      "                                                                 \n",
      " conv2d (Conv2D)             (None, 9, 9, 120)         600       \n",
      "                                                                 \n",
      " conv2d_1 (Conv2D)           (None, 9, 9, 60)          64860     \n",
      "                                                                 \n",
      " conv2d_2 (Conv2D)           (None, 9, 9, 30)          28830     \n",
      "                                                                 \n",
      " flatten (Flatten)           (None, 2430)              0         \n",
      "                                                                 \n",
      " dense (Dense)               (None, 15)                36465     \n",
      "                                                                 \n",
      "=================================================================\n",
      "Total params: 130,755\n",
      "Trainable params: 130,755\n",
      "Non-trainable params: 0\n",
      "_________________________________________________________________\n"
     ]
    },
    {
     "name": "stderr",
     "output_type": "stream",
     "text": [
      "14:01:12 INFO None\n"
     ]
    }
   ],
   "source": [
    "# Create model\n",
    "model = create_cnn_model()\n",
    "logging.info(model.summary())"
   ]
  },
  {
   "cell_type": "code",
   "execution_count": 22,
   "id": "7a0173f8",
   "metadata": {},
   "outputs": [
    {
     "name": "stderr",
     "output_type": "stream",
     "text": [
      "14:01:30 INFO *** TRAINING START ***\n"
     ]
    },
    {
     "name": "stdout",
     "output_type": "stream",
     "text": [
      "Epoch 1/20\n",
      "1936/1936 [==============================] - 207s 95ms/step - loss: 0.1224 - sparse_categorical_accuracy: 0.9577 - val_loss: 0.0736 - val_sparse_categorical_accuracy: 0.9630\n",
      "Epoch 2/20\n",
      "1936/1936 [==============================] - 183s 94ms/step - loss: 0.0468 - sparse_categorical_accuracy: 0.9825 - val_loss: 0.0362 - val_sparse_categorical_accuracy: 0.9875\n",
      "Epoch 3/20\n",
      "1936/1936 [==============================] - 183s 94ms/step - loss: 0.0325 - sparse_categorical_accuracy: 0.9877 - val_loss: 0.0270 - val_sparse_categorical_accuracy: 0.9904\n",
      "Epoch 4/20\n",
      "1936/1936 [==============================] - 183s 94ms/step - loss: 0.0240 - sparse_categorical_accuracy: 0.9919 - val_loss: 0.0224 - val_sparse_categorical_accuracy: 0.9922\n",
      "Epoch 5/20\n",
      "1936/1936 [==============================] - 183s 94ms/step - loss: 0.0140 - sparse_categorical_accuracy: 0.9970 - val_loss: 0.0111 - val_sparse_categorical_accuracy: 0.9977\n",
      "Epoch 6/20\n",
      "1936/1936 [==============================] - 183s 94ms/step - loss: 0.0099 - sparse_categorical_accuracy: 0.9978 - val_loss: 0.0114 - val_sparse_categorical_accuracy: 0.9978\n",
      "Epoch 7/20\n",
      "1936/1936 [==============================] - 183s 95ms/step - loss: 0.0089 - sparse_categorical_accuracy: 0.9979 - val_loss: 0.1072 - val_sparse_categorical_accuracy: 0.9710\n",
      "Epoch 8/20\n",
      "1936/1936 [==============================] - 184s 95ms/step - loss: 0.0083 - sparse_categorical_accuracy: 0.9980 - val_loss: 0.0100 - val_sparse_categorical_accuracy: 0.9977\n",
      "Epoch 9/20\n",
      "1936/1936 [==============================] - 184s 95ms/step - loss: 0.0074 - sparse_categorical_accuracy: 0.9982 - val_loss: 0.0101 - val_sparse_categorical_accuracy: 0.9980\n",
      "Epoch 10/20\n",
      "1936/1936 [==============================] - 183s 95ms/step - loss: 0.0069 - sparse_categorical_accuracy: 0.9983 - val_loss: 0.0220 - val_sparse_categorical_accuracy: 0.9934\n",
      "Epoch 11/20\n",
      "1936/1936 [==============================] - 184s 95ms/step - loss: 0.0067 - sparse_categorical_accuracy: 0.9983 - val_loss: 0.0120 - val_sparse_categorical_accuracy: 0.9978\n",
      "Epoch 12/20\n",
      "1936/1936 [==============================] - 184s 95ms/step - loss: 0.0063 - sparse_categorical_accuracy: 0.9984 - val_loss: 0.0279 - val_sparse_categorical_accuracy: 0.9785\n",
      "Epoch 13/20\n",
      "1936/1936 [==============================] - 183s 95ms/step - loss: 0.0060 - sparse_categorical_accuracy: 0.9985 - val_loss: 0.0538 - val_sparse_categorical_accuracy: 0.9728\n",
      "Epoch 14/20\n",
      "1936/1936 [==============================] - 183s 95ms/step - loss: 0.0059 - sparse_categorical_accuracy: 0.9985 - val_loss: 0.0377 - val_sparse_categorical_accuracy: 0.9737\n",
      "Epoch 15/20\n",
      "1936/1936 [==============================] - 183s 95ms/step - loss: 0.0056 - sparse_categorical_accuracy: 0.9986 - val_loss: 0.0141 - val_sparse_categorical_accuracy: 0.9961\n",
      "Epoch 16/20\n",
      "1936/1936 [==============================] - 183s 95ms/step - loss: 0.0055 - sparse_categorical_accuracy: 0.9986 - val_loss: 0.0112 - val_sparse_categorical_accuracy: 0.9978\n",
      "Epoch 17/20\n",
      "1936/1936 [==============================] - 184s 95ms/step - loss: 0.0053 - sparse_categorical_accuracy: 0.9986 - val_loss: 0.0239 - val_sparse_categorical_accuracy: 0.9872\n",
      "Epoch 18/20\n",
      "1936/1936 [==============================] - 184s 95ms/step - loss: 0.0052 - sparse_categorical_accuracy: 0.9986 - val_loss: 0.0166 - val_sparse_categorical_accuracy: 0.9957\n",
      "Epoch 19/20\n",
      "1936/1936 [==============================] - 204s 105ms/step - loss: 0.0051 - sparse_categorical_accuracy: 0.9987 - val_loss: 0.0687 - val_sparse_categorical_accuracy: 0.9712\n",
      "Epoch 20/20\n",
      "1936/1936 [==============================] - 206s 107ms/step - loss: 0.0050 - sparse_categorical_accuracy: 0.9986 - val_loss: 0.0181 - val_sparse_categorical_accuracy: 0.9970\n"
     ]
    }
   ],
   "source": [
    "# Training\n",
    "logging.info(\"*** TRAINING START ***\")\n",
    "history = model.fit(X_train, y_train, validation_data= (X_test, y_test), epochs=20, batch_size=1024)"
   ]
  },
  {
   "cell_type": "code",
   "execution_count": 23,
   "id": "ead6a4d7",
   "metadata": {},
   "outputs": [
    {
     "data": {
      "image/png": "[encoded data removed]",
      "text/plain": [
       "<Figure size 640x480 with 1 Axes>"
      ]
     },
     "metadata": {},
     "output_type": "display_data"
    },
    {
     "data": {
      "image/png": "[encoded data removed]",
      "text/plain": [
       "<Figure size 640x480 with 1 Axes>"
      ]
     },
     "metadata": {},
     "output_type": "display_data"
    }
   ],
   "source": [
    "plot_history(history)"
   ]
  },
  {
   "cell_type": "code",
   "execution_count": 24,
   "id": "d467cfcb",
   "metadata": {},
   "outputs": [
    {
     "name": "stdout",
     "output_type": "stream",
     "text": [
      "830/830 [==============================] - 25s 30ms/step - loss: 0.0181 - sparse_categorical_accuracy: 0.9970\n",
      "[0.01814422756433487, 0.9970396757125854]\n"
     ]
    }
   ],
   "source": [
    "print(model.evaluate(X_test, y_test, batch_size = 1024))"
   ]
  },
  {
   "cell_type": "code",
   "execution_count": 25,
   "id": "a5294021",
   "metadata": {},
   "outputs": [
    {
     "name": "stdout",
     "output_type": "stream",
     "text": [
      "830/830 [==============================] - 23s 27ms/step\n"
     ]
    }
   ],
   "source": [
    "y_pred = model.predict(X_test, batch_size = 1024)\n",
    "y_pred = np.argmax(y_pred, axis=1)"
   ]
  },
  {
   "cell_type": "code",
   "execution_count": 26,
   "id": "6d27304f",
   "metadata": {},
   "outputs": [
    {
     "name": "stdout",
     "output_type": "stream",
     "text": [
      "              precision    recall  f1-score   support\n",
      "\n",
      "           0       1.00      1.00      1.00    682569\n",
      "           1       0.72      0.62      0.66       682\n",
      "           2       1.00      1.00      1.00     38411\n",
      "           3       1.00      0.98      0.99      3145\n",
      "           4       1.00      1.00      1.00     69354\n",
      "           5       0.99      0.98      0.98      1664\n",
      "           6       0.99      0.99      0.99      1746\n",
      "           7       1.00      1.00      1.00      2383\n",
      "           8       1.00      1.00      1.00         3\n",
      "           9       0.82      0.90      0.86        10\n",
      "          10       0.97      0.99      0.98     46778\n",
      "          11       0.99      0.98      0.99      1796\n",
      "          12       0.98      0.69      0.81       645\n",
      "          13       0.67      0.17      0.27        24\n",
      "          14       0.05      0.69      0.09        13\n",
      "\n",
      "    accuracy                           1.00    849223\n",
      "   macro avg       0.88      0.87      0.84    849223\n",
      "weighted avg       1.00      1.00      1.00    849223\n",
      "\n"
     ]
    }
   ],
   "source": [
    "from sklearn.metrics import classification_report\n",
    "print(classification_report(y_pred, y_test))"
   ]
  },
  {
   "cell_type": "code",
   "execution_count": 27,
   "id": "3ce84065",
   "metadata": {},
   "outputs": [
    {
     "name": "stdout",
     "output_type": "stream",
     "text": [
      "[ 2  0  0  0  0  4  3  0  0 10  0  0  0 10  0  0  0  0  0  0  0  0  0  2\n",
      "  0  0  0  0  0  0  0  0  0  0  0  4  0  0  0 10  0 10 10  0  0  0  0  0\n",
      "  0  0  0  0 10  0  0  0  0  0  0  3  0  0  0 10  0  0  0  0  0  4  4  0\n",
      "  0  0  2  0  0  0  2  0  0  0  0  4  8  0  0  4  0  6  0  0  0  0  0  4\n",
      "  0  0  0 10]\n"
     ]
    }
   ],
   "source": [
    "print(y_pred[:100]) "
   ]
  },
  {
   "cell_type": "code",
   "execution_count": 28,
   "id": "3ec13c97",
   "metadata": {},
   "outputs": [
    {
     "name": "stdout",
     "output_type": "stream",
     "text": [
      "['DDoS' 'BENIGN' 'BENIGN' 'BENIGN' 'BENIGN' 'DoS Hulk' 'DoS GoldenEye'\n",
      " 'BENIGN' 'BENIGN' 'PortScan' 'BENIGN' 'BENIGN' 'BENIGN' 'PortScan'\n",
      " 'BENIGN' 'BENIGN' 'BENIGN' 'BENIGN' 'BENIGN' 'BENIGN' 'BENIGN' 'BENIGN'\n",
      " 'BENIGN' 'DDoS' 'BENIGN' 'BENIGN' 'BENIGN' 'BENIGN' 'BENIGN' 'BENIGN'\n",
      " 'BENIGN' 'BENIGN' 'BENIGN' 'BENIGN' 'BENIGN' 'DoS Hulk' 'BENIGN' 'BENIGN'\n",
      " 'BENIGN' 'PortScan' 'BENIGN' 'PortScan' 'PortScan' 'BENIGN' 'BENIGN'\n",
      " 'BENIGN' 'BENIGN' 'BENIGN' 'BENIGN' 'BENIGN' 'BENIGN' 'BENIGN' 'PortScan'\n",
      " 'BENIGN' 'BENIGN' 'BENIGN' 'BENIGN' 'BENIGN' 'BENIGN' 'DoS GoldenEye'\n",
      " 'BENIGN' 'BENIGN' 'BENIGN' 'PortScan' 'BENIGN' 'BENIGN' 'BENIGN' 'BENIGN'\n",
      " 'BENIGN' 'DoS Hulk' 'DoS Hulk' 'BENIGN' 'BENIGN' 'BENIGN' 'DDoS' 'BENIGN'\n",
      " 'BENIGN' 'BENIGN' 'DDoS' 'BENIGN' 'BENIGN' 'BENIGN' 'BENIGN' 'DoS Hulk'\n",
      " 'Heartbleed' 'BENIGN' 'BENIGN' 'DoS Hulk' 'BENIGN' 'DoS slowloris'\n",
      " 'BENIGN' 'BENIGN' 'BENIGN' 'BENIGN' 'BENIGN' 'DoS Hulk' 'BENIGN' 'BENIGN'\n",
      " 'BENIGN' 'PortScan']\n"
     ]
    }
   ],
   "source": [
    "print(le.inverse_transform(y_pred[:100]))"
   ]
  },
  {
   "cell_type": "code",
   "execution_count": 29,
   "id": "9a03fc29",
   "metadata": {},
   "outputs": [
    {
     "name": "stdout",
     "output_type": "stream",
     "text": [
      "[[681102    260     20     60     33     31      3      4      0      1\n",
      "     341     37     17     18      2]\n",
      " [   168    422      0      0      0      0      0      0      0      0\n",
      "       0      0      0      0      0]\n",
      " [    17      0  38391      0      0      0      0      0      0      0\n",
      "       0      0      0      0      0]\n",
      " [     6      0      0   3081      0      1      0      0      0      0\n",
      "       0      0      0      0      0]\n",
      " [     3      0      0      0  69319      0      0      0      0      0\n",
      "       0      0      0      0      0]\n",
      " [     7      0      0      1      0   1627     14      0      0      0\n",
      "       0      0      1      0      0]\n",
      " [     5      0      0      0      0      5   1728      0      0      0\n",
      "       0      0      1      0      0]\n",
      " [     3      0      0      0      0      0      1   2377      0      0\n",
      "       0      0      0      0      0]\n",
      " [     0      0      0      0      0      0      0      0      3      0\n",
      "       0      0      0      0      0]\n",
      " [     2      0      0      0      0      0      0      0      0      9\n",
      "       0      0      0      0      0]\n",
      " [  1240      0      0      0      0      0      0      0      0      0\n",
      "   46437      1      0      0      1]\n",
      " [     9      0      0      1      1      0      0      2      0      0\n",
      "       0   1756      0      0      0]\n",
      " [     4      0      0      0      1      0      0      0      0      0\n",
      "       0      0    444      2      1]\n",
      " [     1      0      0      1      0      0      0      0      0      0\n",
      "       0      0      0      4      0]\n",
      " [     2      0      0      1      0      0      0      0      0      0\n",
      "       0      2    182      0      9]]\n"
     ]
    }
   ],
   "source": [
    "from sklearn.metrics import confusion_matrix\n",
    "cm = confusion_matrix(y_test, y_pred )\n",
    "print(cm)"
   ]
  },
  {
   "cell_type": "code",
   "execution_count": 30,
   "id": "2147d6b8",
   "metadata": {},
   "outputs": [
    {
     "data": {
      "text/plain": [
       "Text(95.72222222222221, 0.5, 'Actual values')"
      ]
     },
     "execution_count": 30,
     "metadata": {},
     "output_type": "execute_result"
    },
    {
     "data": {
      "image/png": "[encoded data removed]",
      "text/plain": [
       "<Figure size 1000x800 with 2 Axes>"
      ]
     },
     "metadata": {},
     "output_type": "display_data"
    }
   ],
   "source": [
    "import matplotlib.pyplot as plt\n",
    "import seaborn as sn\n",
    "plt.figure(figsize=(10,8))\n",
    "sn.heatmap(cm, annot=True)\n",
    "plt.xlabel('Predicted')\n",
    "plt.ylabel('Actual values')"
   ]
  },
  {
   "cell_type": "code",
   "execution_count": null,
   "id": "ceef5481",
   "metadata": {},
   "outputs": [],
   "source": []
  }
 ],
 "metadata": {
  "celltoolbar": "Raw Cell Format",
  "kernelspec": {
   "display_name": "Python 3 (ipykernel)",
   "language": "python",
   "name": "python3"
  },
  "language_info": {
   "codemirror_mode": {
    "name": "ipython",
    "version": 3
   },
   "file_extension": ".py",
   "mimetype": "text/x-python",
   "name": "python",
   "nbconvert_exporter": "python",
   "pygments_lexer": "ipython3",
   "version": "3.9.16"
  }
 },
 "nbformat": 4,
 "nbformat_minor": 5
}
